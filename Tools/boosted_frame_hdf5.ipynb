{
 "cells": [
  {
   "cell_type": "code",
   "execution_count": 1,
   "metadata": {
    "collapsed": false
   },
   "outputs": [
    {
     "name": "stdout",
     "output_type": "stream",
     "text": [
      "Populating the interactive namespace from numpy and matplotlib\n"
     ]
    }
   ],
   "source": [
    "%pylab inline\n",
    "import h5py"
   ]
  },
  {
   "cell_type": "code",
   "execution_count": 2,
   "metadata": {
    "collapsed": true
   },
   "outputs": [],
   "source": [
    "f = h5py.File(\"/home/atmyers/AMReX-Codes/WarpX/Examples/Physics_applications/plasma_acceleration/lab_frame_data/snapshot00001\")"
   ]
  },
  {
   "cell_type": "code",
   "execution_count": 3,
   "metadata": {
    "collapsed": false
   },
   "outputs": [
    {
     "data": {
      "text/plain": [
       "[u'Bx',\n",
       " u'By',\n",
       " u'Bz',\n",
       " u'Ex',\n",
       " u'Ey',\n",
       " u'Ez',\n",
       " u'beam',\n",
       " u'driver',\n",
       " u'jx',\n",
       " u'jy',\n",
       " u'jz',\n",
       " u'plasma_e',\n",
       " u'plasma_p',\n",
       " u'rho']"
      ]
     },
     "execution_count": 3,
     "metadata": {},
     "output_type": "execute_result"
    }
   ],
   "source": [
    "f.keys()"
   ]
  },
  {
   "cell_type": "code",
   "execution_count": 4,
   "metadata": {
    "collapsed": false
   },
   "outputs": [
    {
     "data": {
      "text/plain": [
       "<matplotlib.collections.QuadMesh at 0x7f1bdf7d8310>"
      ]
     },
     "execution_count": 4,
     "metadata": {},
     "output_type": "execute_result"
    },
    {
     "data": {
      "image/png": "[encoded data removed]",
      "text/plain": [
       "<matplotlib.figure.Figure at 0x7f1be6b46890>"
      ]
     },
     "metadata": {},
     "output_type": "display_data"
    }
   ],
   "source": [
    "plt.pcolormesh(f['Ez'])"
   ]
  },
  {
   "cell_type": "code",
   "execution_count": 5,
   "metadata": {
    "collapsed": false
   },
   "outputs": [
    {
     "data": {
      "text/plain": [
       "array([ 6.83593750e-05,  6.44531250e-05,  6.05468750e-05,  5.66406250e-05,\n",
       "        5.27343750e-05,  4.88281250e-05,  4.49218750e-05,  4.10156250e-05,\n",
       "        3.71093750e-05,  3.32031250e-05,  2.92968750e-05,  2.53906250e-05,\n",
       "        2.14843750e-05,  1.75781250e-05,  1.36718750e-05,  9.76562500e-06,\n",
       "        5.85937500e-06,  1.95312500e-06, -1.95312500e-06, -5.85937500e-06,\n",
       "       -9.76562500e-06, -1.36718750e-05, -1.75781250e-05, -2.14843750e-05,\n",
       "       -2.53906250e-05, -2.92968750e-05, -3.32031250e-05, -3.71093750e-05,\n",
       "       -4.10156250e-05, -4.49218750e-05, -4.88281250e-05, -5.27343750e-05,\n",
       "       -5.66406250e-05, -6.05468750e-05, -6.44531250e-05, -6.83593750e-05,\n",
       "        6.83876027e-05,  6.44813139e-05,  6.05765108e-05,  5.66733414e-05,\n",
       "        5.27719786e-05,  4.88726974e-05,  4.49758894e-05,  4.10820839e-05,\n",
       "        3.71919770e-05,  3.33064690e-05,  2.94267122e-05,  2.55541686e-05,\n",
       "        2.16906798e-05,  1.78385065e-05,  1.39994445e-05,  1.01629180e-05,\n",
       "        6.25389642e-06,  2.13426051e-06, -2.13537487e-06, -6.25672996e-06,\n",
       "       -1.01642969e-05, -1.39987241e-05, -1.78374765e-05, -2.16898278e-05,\n",
       "       -2.55534886e-05, -2.94261697e-05, -3.33060363e-05, -3.71916320e-05,\n",
       "       -4.10818090e-05, -4.49756705e-05, -4.88725230e-05, -5.27718395e-05,\n",
       "       -5.66732296e-05, -6.05764196e-05, -6.44812373e-05, -6.83875349e-05,\n",
       "       -6.94328986e-05,  6.94370565e-05, -6.54804990e-05,  6.54846416e-05,\n",
       "       -6.16436297e-05, -5.78848856e-05,  5.78901869e-05,  6.16481913e-05,\n",
       "        5.42016308e-05, -5.41953082e-05,  5.05925132e-05, -5.05848475e-05,\n",
       "        4.70774640e-05, -4.70680808e-05,  4.36746441e-05, -4.36631128e-05,\n",
       "       -4.03914652e-05,  4.04056198e-05, -3.72771388e-05, -2.27206907e-05,\n",
       "        2.27565833e-05,  3.72944264e-05, -3.43446168e-05, -1.96046475e-05,\n",
       "        3.43655171e-05,  2.47940760e-05,  1.95969324e-05, -2.47585931e-05,\n",
       "        3.16399368e-05, -3.16150492e-05,  2.91329762e-05,  2.68551077e-05,\n",
       "       -2.68217237e-05, -2.91038009e-05, -1.07843879e-05,  1.05308179e-05,\n",
       "        2.96653201e-05,  3.12839786e-05, -2.95750830e-05, -3.12447920e-05,\n",
       "        2.98133659e-05,  2.93830002e-05, -2.93115653e-05, -2.97589493e-05,\n",
       "       -2.74057545e-05,  2.73784529e-05, -1.52491705e-05, -7.01325890e-05,\n",
       "        1.48208154e-05,  7.01417548e-05,  6.46954805e-05, -6.46934720e-05,\n",
       "       -6.08183925e-05,  6.08202138e-05,  5.71486907e-05, -5.71455313e-05,\n",
       "        5.33805358e-05, -5.33765815e-05,  4.96068508e-05, -4.96021507e-05,\n",
       "        4.58433705e-05, -4.58378061e-05, -4.20780772e-05,  4.20846972e-05,\n",
       "       -3.83192376e-05,  3.83267274e-05, -3.45189971e-05,  3.45246001e-05,\n",
       "        3.02811971e-05, -3.02860657e-05, -2.55059266e-05,  2.54917241e-05,\n",
       "        2.08842578e-05, -2.08741456e-05, -1.82611992e-05,  1.83114039e-05,\n",
       "       -1.86607858e-05, -2.15563476e-05,  2.17295129e-05,  1.87602997e-05,\n",
       "        1.81046006e-05, -1.82336607e-05, -2.63248837e-06,  2.13295028e-06,\n",
       "        6.90404154e-05, -6.90337876e-05, -5.33277092e-06,  5.37905295e-06,\n",
       "       -6.62852213e-06,  6.75322114e-06, -6.29603687e-05, -9.14861847e-06,\n",
       "        6.29561096e-05,  9.10958529e-06,  5.94327700e-05, -5.94359575e-05,\n",
       "        5.41091993e-06, -5.86246514e-06,  8.01605544e-06, -8.25184434e-06,\n",
       "        1.20612782e-06, -5.56780989e-05,  5.56764499e-05, -1.13647407e-06,\n",
       "       -5.15539960e-05,  5.15522972e-05,  1.36286373e-05, -1.33311883e-05,\n",
       "       -1.07985780e-06,  1.28446733e-06,  4.73653447e-05, -4.73671295e-05,\n",
       "        1.31694055e-05, -1.38439857e-05,  1.79913802e-05, -1.80938646e-05,\n",
       "        7.67216018e-06, -7.66591238e-06,  4.31119712e-05, -4.31142018e-05,\n",
       "        5.19116877e-06, -5.26783859e-06,  3.87692231e-05, -3.87716695e-05,\n",
       "       -3.43907719e-05, -2.50114317e-05,  2.49860945e-05,  3.43895562e-05,\n",
       "       -3.00286808e-05,  3.00260697e-05,  5.65256480e-06,  2.39189621e-05,\n",
       "       -7.01103598e-05,  7.01176702e-05, -6.56694175e-05,  6.56745667e-05,\n",
       "       -6.18081621e-05,  6.18134766e-05,  5.81516122e-05, -5.81451298e-05,\n",
       "        5.45628593e-05, -5.45549278e-05, -5.10607201e-05,  5.10704921e-05,\n",
       "        4.76995594e-05, -4.76874269e-05, -4.44607445e-05,  4.44757956e-05,\n",
       "        4.14264304e-05, -4.14079029e-05, -3.85517138e-05,  3.85739892e-05,\n",
       "       -3.58777162e-05,  3.59033324e-05,  3.34342649e-05, -3.34045786e-05,\n",
       "       -6.26378993e-06, -2.48158423e-05,  5.80313093e-06, -1.87047769e-05,\n",
       "        1.86318709e-05, -5.73577625e-06,  3.67553286e-05, -3.77985357e-05,\n",
       "        3.41772109e-05,  5.08392922e-05, -3.43192673e-05, -5.19919206e-05,\n",
       "       -1.87295260e-05,  1.91867538e-05, -6.76168870e-05,  6.76075499e-05,\n",
       "       -6.22893808e-05,  6.22728331e-05,  6.57150301e-05,  5.94638207e-05,\n",
       "       -5.94759189e-05,  2.34749156e-05, -2.36513726e-05, -6.69613180e-05,\n",
       "        5.55959128e-05, -5.56051385e-05,  5.13624294e-05, -5.13702079e-05,\n",
       "       -4.73392969e-05,  4.73342692e-05, -4.33540639e-05,  4.33511061e-05,\n",
       "        6.11405021e-06, -6.23564966e-06, -3.93497071e-05,  3.93483355e-05,\n",
       "       -3.54041574e-05,  3.54086610e-05, -2.84968045e-05,  2.85234903e-05,\n",
       "        3.18223636e-05, -3.18050094e-05,  8.12908796e-05,  5.21495080e-05,\n",
       "       -5.23177145e-05, -8.26201799e-05,  8.36702777e-06,  1.82127884e-05,\n",
       "       -9.71071152e-06, -1.77502807e-05])"
      ]
     },
     "execution_count": 5,
     "metadata": {},
     "output_type": "execute_result"
    }
   ],
   "source": [
    "f['plasma_e/x'][:]"
   ]
  },
  {
   "cell_type": "code",
   "execution_count": 6,
   "metadata": {
    "collapsed": false
   },
   "outputs": [
    {
     "data": {
      "text/plain": [
       "278"
      ]
     },
     "execution_count": 6,
     "metadata": {},
     "output_type": "execute_result"
    }
   ],
   "source": [
    "f['plasma_e/x'].size"
   ]
  }
 ],
 "metadata": {
  "kernelspec": {
   "display_name": "Python 2",
   "language": "python",
   "name": "python2"
  },
  "language_info": {
   "codemirror_mode": {
    "name": "ipython",
    "version": 2
   },
   "file_extension": ".py",
   "mimetype": "text/x-python",
   "name": "python",
   "nbconvert_exporter": "python",
   "pygments_lexer": "ipython2",
   "version": "2.7.15"
  }
 },
 "nbformat": 4,
 "nbformat_minor": 2
}
