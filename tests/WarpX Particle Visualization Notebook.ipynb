{
 "cells": [
  {
   "cell_type": "markdown",
   "metadata": {},
   "source": [
    "This notebook shows how to use yt to visualize the output files WarpX. For installation instructions, see here: http://yt-project.org/ .Note that WarpX currently requires the development version of yt - ask Andrew for help installing from source."
   ]
  },
  {
   "cell_type": "code",
   "execution_count": null,
   "metadata": {
    "collapsed": false
   },
   "outputs": [],
   "source": [
    "import yt"
   ]
  },
  {
   "cell_type": "markdown",
   "metadata": {},
   "source": [
    "We start by loading an example dataset. I generated this dataset by running the Exec/Langmuir problem with the default inputs file."
   ]
  },
  {
   "cell_type": "code",
   "execution_count": null,
   "metadata": {
    "collapsed": false
   },
   "outputs": [],
   "source": [
    "ds = yt.load(\"Langmuir/plt00040/\")"
   ]
  },
  {
   "cell_type": "markdown",
   "metadata": {},
   "source": [
    "These are the default fields available for analysis:"
   ]
  },
  {
   "cell_type": "code",
   "execution_count": null,
   "metadata": {
    "collapsed": false
   },
   "outputs": [],
   "source": [
    "ds.field_list"
   ]
  },
  {
   "cell_type": "markdown",
   "metadata": {},
   "source": [
    "Fields in yt have the form (field_type, field_name). The fields labelled \"boxlib\" are mesh fields, while the others are particle fields. This particular dataset has two particle species, labelled by 0 and 1. There are also the 'all' fields, which will return the data for all particle types. If you don't specify which particles you want, it will default to 'all'.\n",
    "\n",
    "One thing you might want to do is simply grab all the particle x positions. To do so:"
   ]
  },
  {
   "cell_type": "code",
   "execution_count": null,
   "metadata": {
    "collapsed": false
   },
   "outputs": [],
   "source": [
    "ad = ds.all_data()\n",
    "x = ad['particle_position_x']\n",
    "print(x)\n",
    "print(x.size)"
   ]
  },
  {
   "cell_type": "markdown",
   "metadata": {},
   "source": [
    "Note that yt knows about units, so if you try to add this array to something with the wrong dimensions it will complain:"
   ]
  },
  {
   "cell_type": "code",
   "execution_count": null,
   "metadata": {
    "collapsed": false
   },
   "outputs": [],
   "source": [
    "ad['particle_position_x'] + ad['particle_velocity_x']"
   ]
  },
  {
   "cell_type": "markdown",
   "metadata": {},
   "source": [
    "If you only wanted a certain species, you could do:"
   ]
  },
  {
   "cell_type": "code",
   "execution_count": null,
   "metadata": {
    "collapsed": false
   },
   "outputs": [],
   "source": [
    "m = ad['particle0', 'particle_mass']\n",
    "print(m)\n",
    "print(m.size)"
   ]
  },
  {
   "cell_type": "markdown",
   "metadata": {},
   "source": [
    "or"
   ]
  },
  {
   "cell_type": "code",
   "execution_count": null,
   "metadata": {
    "collapsed": false
   },
   "outputs": [],
   "source": [
    "m = ad['particle1', 'particle_mass']\n",
    "print(m)\n",
    "print(m.size)"
   ]
  },
  {
   "cell_type": "markdown",
   "metadata": {},
   "source": [
    "If your dataset is large, you probably don't want to read all the particles in at once. You can also grid-by-grid. To see all the grids in your dataset, do:"
   ]
  },
  {
   "cell_type": "code",
   "execution_count": null,
   "metadata": {
    "collapsed": false
   },
   "outputs": [],
   "source": [
    "ds.index.grids"
   ]
  },
  {
   "cell_type": "markdown",
   "metadata": {},
   "source": [
    "To look at the particles only in the one grid, we do:"
   ]
  },
  {
   "cell_type": "code",
   "execution_count": null,
   "metadata": {
    "collapsed": false
   },
   "outputs": [],
   "source": [
    "g = ds.index.grids[0]\n",
    "x = g['particle_velocity_x']\n",
    "print(x)\n",
    "print(x.size)"
   ]
  },
  {
   "cell_type": "markdown",
   "metadata": {},
   "source": [
    "You can also define arbitrary geometric regions for selecting data. Below, we get the weights of particles within a sphere of given position and radius"
   ]
  },
  {
   "cell_type": "code",
   "execution_count": null,
   "metadata": {
    "collapsed": false
   },
   "outputs": [],
   "source": [
    "center = ds.domain_center\n",
    "radius = ds.domain_width[0] / 4.0\n",
    "sp = ds.sphere(center, radius)\n",
    "w = sp['particle_weight']\n",
    "print(w)\n",
    "print(w.size)"
   ]
  },
  {
   "cell_type": "markdown",
   "metadata": {},
   "source": [
    "Grids that do not intersect with the geometric object are never loaded into memory. There are a bunch of other geometric constructs you can use - rectangular regions, disks, slices, etc..."
   ]
  },
  {
   "cell_type": "markdown",
   "metadata": {},
   "source": [
    "You can also define derived fields that build off of the basic ones. Below, we show how to create a derived field called \"particle_gamma\" for every particle type in the simulation. Commonly used derived fields can be added to the WarpX frontend, so you don't have to do this over and over in your scripts."
   ]
  },
  {
   "cell_type": "code",
   "execution_count": null,
   "metadata": {
    "collapsed": false
   },
   "outputs": [],
   "source": [
    "from yt.utilities.physical_constants import c\n",
    "import numpy as np\n",
    "\n",
    "def add_particle_gamma(ds, ptype):\n",
    "    def _gamma(field, data):\n",
    "        vx = data[ptype, 'particle_velocity_x']\n",
    "        vy = data[ptype, 'particle_velocity_y']\n",
    "        vz = data[ptype, 'particle_velocity_z']\n",
    "        v2 = vx**2 + vy**2 + vz**2\n",
    "        c2 = c**2\n",
    "        return 1.0/np.sqrt(1.0 - v2/c2)\n",
    "    ds.add_field((ptype, 'particle_gamma'), _gamma, sampling_type='particle')\n",
    "    \n",
    "for ptype in ds.particle_types:\n",
    "    add_particle_gamma(ds, ptype)\n",
    "    \n",
    "print(ad['all', 'particle_gamma'])"
   ]
  },
  {
   "cell_type": "markdown",
   "metadata": {},
   "source": [
    "yt has built-in plotting functions for quickly making plots of your dataset. These plots are AMR-aware and have lots of callback functions for customizing them to your liking. \n",
    "\n",
    "Below, we show how to take a slice perpindicular to the y direction through the simulation domain, showing the current in the x-direction. We have also over-plotted the particle positions in a one-cell thick region near the slice. This example uses a different dataset, generated my running the uniform_plasma example with the default inputs file, except that plotfiles were turned on."
   ]
  },
  {
   "cell_type": "code",
   "execution_count": null,
   "metadata": {
    "collapsed": false
   },
   "outputs": [],
   "source": [
    "direction = 1\n",
    "field = 'jx'\n",
    "\n",
    "ds = yt.load(\"../Exec/uniform_plasma/plt00000/\")\n",
    "dx = ds.domain_width[direction] / ds.domain_dimensions[direction]\n",
    "sl = yt.SlicePlot(ds, direction, field)\n",
    "sl.annotate_particles(width=dx, col='k', marker='.', p_size=1.0)"
   ]
  },
  {
   "cell_type": "markdown",
   "metadata": {},
   "source": [
    "Here is a slighly different example that uses the plasma_acceleration test problem. We only overplot the particle positions for species 1."
   ]
  },
  {
   "cell_type": "code",
   "execution_count": null,
   "metadata": {
    "collapsed": false
   },
   "outputs": [],
   "source": [
    "direction = 1\n",
    "field = 'jx'\n",
    "\n",
    "ds = yt.load(\"../Exec/plasma_acceleration/plt00040/\")\n",
    "dx = ds.domain_width[direction] / ds.domain_dimensions[direction]\n",
    "sl = yt.SlicePlot(ds, direction, field)\n",
    "sl.annotate_particles(width=dx, ptype='particle1', col='k', marker='.', p_size=10.0)"
   ]
  },
  {
   "cell_type": "markdown",
   "metadata": {},
   "source": [
    "Of course, once the particles are read in, you can also just use matplotlib to make your plots. Here is an example that makes an interactive 3D plot showing the particle positions of species 0 from the above simulation."
   ]
  },
  {
   "cell_type": "code",
   "execution_count": null,
   "metadata": {
    "collapsed": false
   },
   "outputs": [],
   "source": [
    "from mpl_toolkits.mplot3d import Axes3D\n",
    "import matplotlib.pyplot as plt\n",
    "import numpy as np\n",
    "%matplotlib\n",
    "\n",
    "fig = plt.figure()\n",
    "ax = fig.add_subplot(111, projection='3d')\n",
    "\n",
    "ds = yt.load(\"../Exec/plasma_acceleration/plt00040/\")\n",
    "ad = ds.all_data()\n",
    "ptype = 'particle0'\n",
    "xs = ad[(ptype, 'particle_position_x')]\n",
    "ys = ad[(ptype, 'particle_position_y')]\n",
    "zs = ad[(ptype, 'particle_position_z')]\n",
    "\n",
    "ax.scatter(xs, ys, zs, marker='.')"
   ]
  },
  {
   "cell_type": "markdown",
   "metadata": {},
   "source": [
    "There is a bunch more you can do with yt, please see the documentation here: http://yt-project.org/doc/index.html and the website here: http://yt-project.org/ for more information. "
   ]
  }
 ],
 "metadata": {
  "kernelspec": {
   "display_name": "Python 2",
   "language": "python",
   "name": "python2"
  },
  "language_info": {
   "codemirror_mode": {
    "name": "ipython",
    "version": 2
   },
   "file_extension": ".py",
   "mimetype": "text/x-python",
   "name": "python",
   "nbconvert_exporter": "python",
   "pygments_lexer": "ipython2",
   "version": "2.7.13"
  }
 },
 "nbformat": 4,
 "nbformat_minor": 2
}
