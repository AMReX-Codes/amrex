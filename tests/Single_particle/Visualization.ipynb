{
 "cells": [
  {
   "cell_type": "markdown",
   "metadata": {},
   "source": [
    "# Overview\n",
    "\n",
    "This a notebook that compares the PICSAR and WarpX results.\n",
    "\n",
    "# Instructions\n",
    "\n",
    "Execute the cells below one by one, by selecting them with your mouse and typing `Shift + Enter`"
   ]
  },
  {
   "cell_type": "code",
   "execution_count": 1,
   "metadata": {
    "collapsed": false
   },
   "outputs": [
    {
     "name": "stdout",
     "output_type": "stream",
     "text": [
      "Using matplotlib backend: MacOSX\n"
     ]
    }
   ],
   "source": [
    "import sys\n",
    "sys.path.append('../../../picsar/postproc_python_script/')\n",
    "from Field import Field as PxrField\n",
    "import yt\n",
    "from IPython.display import clear_output\n",
    "import numpy as np\n",
    "from scipy.constants import c, e, epsilon_0, m_e, mu_0\n",
    "from ipywidgets import interact, RadioButtons, IntSlider, fixed\n",
    "import matplotlib.pyplot as plt\n",
    "%matplotlib"
   ]
  },
  {
   "cell_type": "markdown",
   "metadata": {},
   "source": [
    "# Functions to load and plot the fields"
   ]
  },
  {
   "cell_type": "code",
   "execution_count": 89,
   "metadata": {
    "collapsed": true
   },
   "outputs": [],
   "source": [
    "def extract_data( field, iteration, code='picsar' ):\n",
    "    if code == 'picsar':\n",
    "        pxr_field = PxrField('./RESULTS/%s%d.pxr' %(field, iteration) )\n",
    "        print( 'PICSAR Max field:', abs(pxr_field.f).max())\n",
    "        return(pxr_field.f[32,:,:])\n",
    "\n",
    "    if code == 'warpx':        \n",
    "        ds = yt.load( './plt%05d/' %(iteration+1) )\n",
    "        all_data_level_0 = ds.covering_grid(level=0, \n",
    "                    left_edge=[0,0.0,0.0], dims=ds.domain_dimensions)\n",
    "        print( 'WARPX Max field:', abs(all_data_level_0[field]).max() )\n",
    "        return( all_data_level_0[field][:, :, 63].T )"
   ]
  },
  {
   "cell_type": "code",
   "execution_count": 90,
   "metadata": {
    "collapsed": true
   },
   "outputs": [],
   "source": [
    "def plot_fields( field1, field2, iteration, vmin=None, vmax=None ):\n",
    "    plt.clf()\n",
    "    \n",
    "    plt.subplot(131)\n",
    "    plt.title('PICSAR')\n",
    "    data1 = extract_data(field1, iteration, 'picsar')\n",
    "    plt.imshow(data1, vmin=vmin, vmax=vmax, interpolation='nearest')\n",
    "    plt.colorbar()\n",
    "    \n",
    "    plt.subplot(132)\n",
    "    plt.title('WARPX')\n",
    "    data2 = extract_data(field2, iteration, 'warpx')\n",
    "    plt.imshow(data2, vmin=vmin, vmax=vmax, interpolation='nearest')\n",
    "    plt.colorbar()\n",
    "    \n",
    "    plt.subplot(133)\n",
    "    plt.title('Difference')\n",
    "    plt.imshow(data2 -data1, vmin=vmin, vmax=vmax, interpolation='nearest')\n",
    "    plt.colorbar()"
   ]
  },
  {
   "cell_type": "markdown",
   "metadata": {},
   "source": [
    "# Compare fields"
   ]
  },
  {
   "cell_type": "code",
   "execution_count": 91,
   "metadata": {
    "collapsed": false
   },
   "outputs": [
    {
     "name": "stdout",
     "output_type": "stream",
     "text": [
      "Openning of  ./RESULTS/jx38.pxr\n",
      "xmin: -0.000020, xmax: 0.000020, nx: 64\n",
      "ymin: -0.000020, ymax: 0.000020, ny: 64\n",
      "zmin: -0.000020, zmax: 0.000020, nz: 64\n",
      "Total number of cells: 262144\n",
      "Size of file: 2097212\n",
      "PICSAR Max field: 2.64404998874e+13\n"
     ]
    },
    {
     "name": "stderr",
     "output_type": "stream",
     "text": [
      "yt : [INFO     ] 2016-10-25 17:32:25,543 Parameters: current_time              = 4.694218428769519e-14\n",
      "yt : [INFO     ] 2016-10-25 17:32:25,544 Parameters: domain_dimensions         = [64 64 64]\n",
      "yt : [INFO     ] 2016-10-25 17:32:25,545 Parameters: domain_left_edge          = [ -2.00000000e-05  -2.00000000e-05  -2.00000000e-05]\n",
      "yt : [INFO     ] 2016-10-25 17:32:25,546 Parameters: domain_right_edge         = [  2.00000000e-05   2.00000000e-05   2.00000000e-05]\n"
     ]
    },
    {
     "name": "stdout",
     "output_type": "stream",
     "text": [
      "WARPX Max field: 36296309182311.36 dimensionless\n"
     ]
    }
   ],
   "source": [
    "plot_fields('jx', 'jx', 38, vmax=1e8, vmin=-1e8)"
   ]
  },
  {
   "cell_type": "code",
   "execution_count": 46,
   "metadata": {
    "collapsed": false
   },
   "outputs": [
    {
     "name": "stdout",
     "output_type": "stream",
     "text": [
      "Openning of  ./RESULTS/jx0.pxr\n",
      "xmin: -0.000020, xmax: 0.000020, nx: 64\n",
      "ymin: -0.000020, ymax: 0.000020, ny: 64\n",
      "zmin: -0.000020, zmax: 0.000020, nz: 64\n",
      "Total number of cells: 262144\n",
      "Size of file: 2097212\n",
      "PICSAR Max field: 2.54025866027e+13\n"
     ]
    },
    {
     "name": "stderr",
     "output_type": "stream",
     "text": [
      "yt : [INFO     ] 2016-10-25 17:08:24,084 Parameters: current_time              = 1.203645750966544e-15\n",
      "yt : [INFO     ] 2016-10-25 17:08:24,084 Parameters: domain_dimensions         = [64 64 64]\n",
      "yt : [INFO     ] 2016-10-25 17:08:24,085 Parameters: domain_left_edge          = [ -2.00000000e-05  -2.00000000e-05  -2.00000000e-05]\n",
      "yt : [INFO     ] 2016-10-25 17:08:24,086 Parameters: domain_right_edge         = [  2.00000000e-05   2.00000000e-05   2.00000000e-05]\n"
     ]
    },
    {
     "name": "stdout",
     "output_type": "stream",
     "text": [
      "WARPX Max field: 262143\n"
     ]
    },
    {
     "data": {
      "text/plain": [
       "<function __main__.plot_fields>"
      ]
     },
     "execution_count": 46,
     "metadata": {},
     "output_type": "execute_result"
    }
   ],
   "source": [
    "interact(plot_fields, \n",
    "         field1=RadioButtons( options=['jx', 'ex']), \n",
    "         field2=RadioButtons(options=['jx', 'Ex']), \n",
    "        iteration=IntSlider(min=0, max=19, step=1), \n",
    "        vmin=fixed(-2e13), vmax=fixed(2e13) )"
   ]
  },
  {
   "cell_type": "markdown",
   "metadata": {
    "collapsed": true
   },
   "source": [
    "# Plot history of fields and compare with theory"
   ]
  },
  {
   "cell_type": "code",
   "execution_count": 47,
   "metadata": {
    "collapsed": true
   },
   "outputs": [],
   "source": [
    "def extract_history( field, code, Niters=39 ):\n",
    "    history = []\n",
    "    for i in range(Niters):\n",
    "        data = extract_data( field, i, code )\n",
    "        history.append( np.average( data[:,:32]))\n",
    "    return(np.array(history))"
   ]
  },
  {
   "cell_type": "code",
   "execution_count": 48,
   "metadata": {
    "collapsed": false
   },
   "outputs": [],
   "source": [
    "# Theoretical values\n",
    "\n",
    "# Timestep, from the Courant limit\n",
    "dt_th = 40.e-6/64 / 3**.5 / c\n",
    "# Density\n",
    "n_e = 1.e25\n",
    "# Initial velocity kick\n",
    "v_0 = 0.01*c\n",
    "\n",
    "# Derived values\n",
    "j0 = n_e * e * v_0\n",
    "wp = np.sqrt( n_e * e**2 / m_e / epsilon_0)\n",
    "t_th = (np.arange(29)+1)*dt_th\n",
    "j_th = -j0 * np.cos( wp*t_th)\n",
    "E_th = j0*c**2*mu_0/wp * np.sin(wp*t_th)"
   ]
  },
  {
   "cell_type": "markdown",
   "metadata": {},
   "source": [
    "## jx field"
   ]
  },
  {
   "cell_type": "code",
   "execution_count": 49,
   "metadata": {
    "collapsed": false
   },
   "outputs": [],
   "source": [
    "jx_warpx = extract_history( 'jx', 'warpx' );\n",
    "jx_picsar = extract_history( 'jx', 'picsar');\n",
    "clear_output()"
   ]
  },
  {
   "cell_type": "code",
   "execution_count": 50,
   "metadata": {
    "collapsed": false
   },
   "outputs": [
    {
     "data": {
      "text/plain": [
       "<matplotlib.legend.Legend at 0x116bcbfd0>"
      ]
     },
     "execution_count": 50,
     "metadata": {},
     "output_type": "execute_result"
    }
   ],
   "source": [
    "plt.figure()\n",
    "plt.plot( jx_warpx, label='Warp X' )\n",
    "plt.plot( jx_picsar, label='PICSAR' )\n",
    "\n",
    "plt.plot( )\n",
    "plt.ylabel('Amplitude of jx')\n",
    "plt.xlabel('Number of iterations')\n",
    "plt.legend(loc=0)"
   ]
  },
  {
   "cell_type": "markdown",
   "metadata": {},
   "source": [
    "## Ex field"
   ]
  },
  {
   "cell_type": "code",
   "execution_count": 31,
   "metadata": {
    "collapsed": false
   },
   "outputs": [],
   "source": [
    "ex_warpx = extract_history( 'Ex', 'warpx' );\n",
    "ex_picsar = extract_history( 'ex', 'picsar');\n",
    "clear_output()"
   ]
  },
  {
   "cell_type": "code",
   "execution_count": 33,
   "metadata": {
    "collapsed": false
   },
   "outputs": [
    {
     "data": {
      "text/plain": [
       "<matplotlib.legend.Legend at 0x11bf96160>"
      ]
     },
     "execution_count": 33,
     "metadata": {},
     "output_type": "execute_result"
    }
   ],
   "source": [
    "plt.figure()\n",
    "plt.plot( ex_warpx, label='Warp X' )\n",
    "plt.plot( ex_picsar, label='PICSAR' )\n",
    "\n",
    "plt.plot( )\n",
    "plt.ylabel('Amplitude of Ex')\n",
    "\n",
    "plt.xlabel('Number of iterations')\n",
    "plt.legend(loc=0)"
   ]
  },
  {
   "cell_type": "code",
   "execution_count": null,
   "metadata": {
    "collapsed": true
   },
   "outputs": [],
   "source": []
  },
  {
   "cell_type": "code",
   "execution_count": 12,
   "metadata": {
    "collapsed": true
   },
   "outputs": [],
   "source": [
    "dx = 40.e-6/64"
   ]
  },
  {
   "cell_type": "code",
   "execution_count": 13,
   "metadata": {
    "collapsed": false
   },
   "outputs": [
    {
     "data": {
      "text/plain": [
       "6.25e-07"
      ]
     },
     "execution_count": 13,
     "metadata": {},
     "output_type": "execute_result"
    }
   ],
   "source": [
    "dx"
   ]
  },
  {
   "cell_type": "code",
   "execution_count": null,
   "metadata": {
    "collapsed": true
   },
   "outputs": [],
   "source": [
    "2441406.2500000009"
   ]
  },
  {
   "cell_type": "code",
   "execution_count": 28,
   "metadata": {
    "collapsed": false
   },
   "outputs": [
    {
     "data": {
      "text/plain": [
       "2441406.250000001"
      ]
     },
     "execution_count": 28,
     "metadata": {},
     "output_type": "execute_result"
    }
   ],
   "source": [
    "2441406.2500000009"
   ]
  },
  {
   "cell_type": "code",
   "execution_count": 41,
   "metadata": {
    "collapsed": false
   },
   "outputs": [],
   "source": [
    "iz = (262143 % 64**2) %64\n",
    "iy = (262143 % 64**2) //64\n",
    "ix = "
   ]
  },
  {
   "cell_type": "code",
   "execution_count": 40,
   "metadata": {
    "collapsed": false
   },
   "outputs": [
    {
     "data": {
      "text/plain": [
       "63"
      ]
     },
     "execution_count": 40,
     "metadata": {},
     "output_type": "execute_result"
    }
   ],
   "source": [
    "iz"
   ]
  },
  {
   "cell_type": "code",
   "execution_count": 42,
   "metadata": {
    "collapsed": false
   },
   "outputs": [
    {
     "data": {
      "text/plain": [
       "63"
      ]
     },
     "execution_count": 42,
     "metadata": {},
     "output_type": "execute_result"
    }
   ],
   "source": [
    "iy"
   ]
  },
  {
   "cell_type": "code",
   "execution_count": null,
   "metadata": {
    "collapsed": true
   },
   "outputs": [],
   "source": []
  }
 ],
 "metadata": {
  "anaconda-cloud": {},
  "kernelspec": {
   "display_name": "Python [conda root]",
   "language": "python",
   "name": "conda-root-py"
  },
  "language_info": {
   "codemirror_mode": {
    "name": "ipython",
    "version": 3
   },
   "file_extension": ".py",
   "mimetype": "text/x-python",
   "name": "python",
   "nbconvert_exporter": "python",
   "pygments_lexer": "ipython3",
   "version": "3.5.2"
  },
  "widgets": {
   "state": {
    "ff4d184b101f4362b5837b945a621f1d": {
     "views": [
      {
       "cell_index": 7
      }
     ]
    }
   },
   "version": "1.2.0"
  }
 },
 "nbformat": 4,
 "nbformat_minor": 1
}
