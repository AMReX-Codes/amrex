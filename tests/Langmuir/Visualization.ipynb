{
 "cells": [
  {
   "cell_type": "markdown",
   "metadata": {},
   "source": [
    "# Overview\n",
    "\n",
    "This a notebook that compares the PICSAR and WarpX results.\n",
    "\n",
    "# Instructions\n",
    "\n",
    "Execute the cells below one by one, by selecting them with your mouse and typing `Shift + Enter`"
   ]
  },
  {
   "cell_type": "code",
   "execution_count": 1,
   "metadata": {
    "collapsed": false
   },
   "outputs": [
    {
     "name": "stdout",
     "output_type": "stream",
     "text": [
      "Using matplotlib backend: MacOSX\n"
     ]
    }
   ],
   "source": [
    "import sys\n",
    "sys.path.append('../../../picsar/postproc_python_script/')\n",
    "from Field import Field as PxrField\n",
    "import yt\n",
    "from IPython.display import clear_output\n",
    "import numpy as np\n",
    "from scipy.constants import c, e, epsilon_0, m_e, mu_0\n",
    "from ipywidgets import interact, RadioButtons, IntSlider, fixed\n",
    "import matplotlib.pyplot as plt\n",
    "%matplotlib"
   ]
  },
  {
   "cell_type": "markdown",
   "metadata": {},
   "source": [
    "# Functions to load and plot the fields"
   ]
  },
  {
   "cell_type": "code",
   "execution_count": 2,
   "metadata": {
    "collapsed": true
   },
   "outputs": [],
   "source": [
    "def extract_data( field, iteration, code='picsar' ):\n",
    "    if code == 'picsar':\n",
    "        pxr_field = PxrField('./RESULTS/%s%d.pxr' %(field, iteration) )\n",
    "        return(pxr_field.f[32,:,:])\n",
    "\n",
    "    if code == 'warpx':        \n",
    "        ds = yt.load( './plt%05d/' %(iteration+1) )\n",
    "        all_data_level_0 = ds.covering_grid(level=0, \n",
    "                    left_edge=[-20.e-6,-20.e-6,-20.e-6], dims=ds.domain_dimensions)\n",
    "\n",
    "        return( all_data_level_0[field][:, :, 32].T )"
   ]
  },
  {
   "cell_type": "code",
   "execution_count": 3,
   "metadata": {
    "collapsed": true
   },
   "outputs": [],
   "source": [
    "def plot_fields( field1, field2, iteration, vmin=None, vmax=None ):\n",
    "    plt.clf()\n",
    "    \n",
    "    plt.subplot(131)\n",
    "    plt.title('PICSAR')\n",
    "    data1 = extract_data(field1, iteration, 'picsar')\n",
    "    plt.imshow(data1, vmin=vmin, vmax=vmax)\n",
    "    plt.colorbar()\n",
    "    \n",
    "    plt.subplot(132)\n",
    "    plt.title('WARPX')\n",
    "    data2 = extract_data(field2, iteration, 'warpx')\n",
    "    plt.imshow(data2, vmin=vmin, vmax=vmax)\n",
    "    plt.colorbar()\n",
    "    \n",
    "    plt.subplot(133)\n",
    "    plt.title('Difference')\n",
    "    plt.imshow(data2 -data1, vmin=vmin, vmax=vmax)\n",
    "    plt.colorbar()"
   ]
  },
  {
   "cell_type": "markdown",
   "metadata": {},
   "source": [
    "# Compare fields"
   ]
  },
  {
   "cell_type": "code",
   "execution_count": 4,
   "metadata": {
    "collapsed": false
   },
   "outputs": [
    {
     "name": "stdout",
     "output_type": "stream",
     "text": [
      "('Openning of ', './RESULTS/jx0.pxr')\n",
      "xmin: -0.000020, xmax: 0.000020, nx: 64\n",
      "ymin: -0.000020, ymax: 0.000020, ny: 64\n",
      "zmin: -0.000020, zmax: 0.000020, nz: 64\n",
      "('Total number of cells:', 262144)\n",
      "('Size of file:', 2097212)\n"
     ]
    },
    {
     "name": "stderr",
     "output_type": "stream",
     "text": [
      "yt : [INFO     ] 2016-10-26 14:04:17,124 Parameters: current_time              = 1.20364575097e-15\n",
      "yt : [INFO     ] 2016-10-26 14:04:17,125 Parameters: domain_dimensions         = [64 64 64]\n",
      "yt : [INFO     ] 2016-10-26 14:04:17,126 Parameters: domain_left_edge          = [ -2.00000000e-05  -2.00000000e-05  -2.00000000e-05]\n",
      "yt : [INFO     ] 2016-10-26 14:04:17,127 Parameters: domain_right_edge         = [  2.00000000e-05   2.00000000e-05   2.00000000e-05]\n"
     ]
    }
   ],
   "source": [
    "plot_fields('jx', 'jx', 0)"
   ]
  },
  {
   "cell_type": "code",
   "execution_count": 5,
   "metadata": {
    "collapsed": false
   },
   "outputs": [
    {
     "name": "stdout",
     "output_type": "stream",
     "text": [
      "('Openning of ', './RESULTS/jx0.pxr')\n",
      "xmin: -0.000020, xmax: 0.000020, nx: 64\n",
      "ymin: -0.000020, ymax: 0.000020, ny: 64\n",
      "zmin: -0.000020, zmax: 0.000020, nz: 64\n",
      "('Total number of cells:', 262144)\n",
      "('Size of file:', 2097212)\n"
     ]
    },
    {
     "name": "stderr",
     "output_type": "stream",
     "text": [
      "yt : [INFO     ] 2016-10-26 14:04:18,490 Parameters: current_time              = 1.20364575097e-15\n",
      "yt : [INFO     ] 2016-10-26 14:04:18,491 Parameters: domain_dimensions         = [64 64 64]\n",
      "yt : [INFO     ] 2016-10-26 14:04:18,492 Parameters: domain_left_edge          = [ -2.00000000e-05  -2.00000000e-05  -2.00000000e-05]\n",
      "yt : [INFO     ] 2016-10-26 14:04:18,493 Parameters: domain_right_edge         = [  2.00000000e-05   2.00000000e-05   2.00000000e-05]\n"
     ]
    },
    {
     "data": {
      "text/plain": [
       "<function __main__.plot_fields>"
      ]
     },
     "execution_count": 5,
     "metadata": {},
     "output_type": "execute_result"
    }
   ],
   "source": [
    "interact(plot_fields, \n",
    "         field1=RadioButtons( options=['jx', 'ex']), \n",
    "         field2=RadioButtons(options=['jx', 'Ex']), \n",
    "        iteration=IntSlider(min=0, max=19, step=1), \n",
    "        vmin=fixed(-2e13), vmax=fixed(2e13) )"
   ]
  },
  {
   "cell_type": "markdown",
   "metadata": {
    "collapsed": true
   },
   "source": [
    "# Plot history of fields and compare with theory"
   ]
  },
  {
   "cell_type": "code",
   "execution_count": 6,
   "metadata": {
    "collapsed": true
   },
   "outputs": [],
   "source": [
    "def extract_history( field, code, Niters=39 ):\n",
    "    history = []\n",
    "    for i in range(Niters):\n",
    "        data = extract_data( field, i, code )\n",
    "        history.append( np.average( data[:,:32]))\n",
    "    return(np.array(history))"
   ]
  },
  {
   "cell_type": "code",
   "execution_count": 7,
   "metadata": {
    "collapsed": false
   },
   "outputs": [],
   "source": [
    "# Theoretical values\n",
    "\n",
    "# Timestep, from the Courant limit\n",
    "dt_th = 40.e-6/64 / 3**.5 / c\n",
    "# Density\n",
    "n_e = 1.e25\n",
    "# Initial velocity kick\n",
    "v_0 = 0.01*c\n",
    "\n",
    "# Derived values\n",
    "j0 = n_e * e * v_0\n",
    "wp = np.sqrt( n_e * e**2 / m_e / epsilon_0)\n",
    "tj_th = (np.arange(39)+0.5)*dt_th\n",
    "te_th = (np.arange(39)+1)*dt_th\n",
    "j_th = -j0 * np.cos( wp*tj_th)\n",
    "e_th = mu_0*j0*c**2/wp*np.sin( wp*te_th )"
   ]
  },
  {
   "cell_type": "markdown",
   "metadata": {},
   "source": [
    "## jx field"
   ]
  },
  {
   "cell_type": "code",
   "execution_count": 8,
   "metadata": {
    "collapsed": false
   },
   "outputs": [],
   "source": [
    "jx_warpx = extract_history( 'jx', 'warpx' );\n",
    "jx_picsar = extract_history( 'jx', 'picsar');\n",
    "clear_output()"
   ]
  },
  {
   "cell_type": "code",
   "execution_count": 9,
   "metadata": {
    "collapsed": false
   },
   "outputs": [
    {
     "data": {
      "text/plain": [
       "<matplotlib.legend.Legend at 0x116c0d390>"
      ]
     },
     "execution_count": 9,
     "metadata": {},
     "output_type": "execute_result"
    }
   ],
   "source": [
    "plt.figure()\n",
    "plt.plot( jx_warpx, label='Warp X' )\n",
    "plt.plot( jx_picsar, label='PICSAR' )\n",
    "plt.plot( j_th, 'k--', label='Theory' )\n",
    "plt.plot( )\n",
    "plt.ylabel('Amplitude of jx')\n",
    "plt.xlabel('Number of iterations')\n",
    "plt.legend(loc=0)"
   ]
  },
  {
   "cell_type": "markdown",
   "metadata": {},
   "source": [
    "## Ex field"
   ]
  },
  {
   "cell_type": "code",
   "execution_count": 10,
   "metadata": {
    "collapsed": false
   },
   "outputs": [],
   "source": [
    "ex_warpx = extract_history( 'Ex', 'warpx' );\n",
    "ex_picsar = extract_history( 'ex', 'picsar');\n",
    "clear_output()"
   ]
  },
  {
   "cell_type": "code",
   "execution_count": 11,
   "metadata": {
    "collapsed": false
   },
   "outputs": [
    {
     "data": {
      "text/plain": [
       "<matplotlib.legend.Legend at 0x11cfda850>"
      ]
     },
     "execution_count": 11,
     "metadata": {},
     "output_type": "execute_result"
    }
   ],
   "source": [
    "plt.figure()\n",
    "plt.plot( ex_warpx, label='Warp X' )\n",
    "plt.plot( ex_picsar, label='PICSAR' )\n",
    "plt.plot( e_th, 'k--', label='Theory' )\n",
    "plt.plot( )\n",
    "plt.ylabel('Amplitude of Ex')\n",
    "\n",
    "plt.xlabel('Number of iterations')\n",
    "plt.legend(loc=0)"
   ]
  },
  {
   "cell_type": "code",
   "execution_count": null,
   "metadata": {
    "collapsed": true
   },
   "outputs": [],
   "source": []
  }
 ],
 "metadata": {
  "anaconda-cloud": {},
  "kernelspec": {
   "display_name": "Python [default]",
   "language": "python",
   "name": "python3"
  },
  "language_info": {
   "codemirror_mode": {
    "name": "ipython",
    "version": 3
   },
   "file_extension": ".py",
   "mimetype": "text/x-python",
   "name": "python",
   "nbconvert_exporter": "python",
   "pygments_lexer": "ipython3",
   "version": "3.5.2"
  }
 },
 "nbformat": 4,
 "nbformat_minor": 1
}
