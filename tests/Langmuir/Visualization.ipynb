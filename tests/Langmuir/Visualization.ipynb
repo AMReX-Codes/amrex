{
 "cells": [
  {
   "cell_type": "markdown",
   "metadata": {},
   "source": [
    "# Overview\n",
    "\n",
    "This a notebook that compares the PICSAR and WarpX results.\n",
    "\n",
    "# Instructions\n",
    "\n",
    "Execute the cells below one by one, by selecting them with your mouse and typing `Shift + Enter`"
   ]
  },
  {
   "cell_type": "code",
   "execution_count": 6,
   "metadata": {
    "collapsed": false
   },
   "outputs": [
    {
     "name": "stdout",
     "output_type": "stream",
     "text": [
      "Using matplotlib backend: MacOSX\n"
     ]
    }
   ],
   "source": [
    "import sys\n",
    "sys.path.append('../../../picsar/postproc_python_script/')\n",
    "from Field import Field as PxrField\n",
    "import yt\n",
    "from ipywidgets import interact, RadioButtons, IntSlider\n",
    "import matplotlib.pyplot as plt\n",
    "%matplotlib"
   ]
  },
  {
   "cell_type": "markdown",
   "metadata": {},
   "source": [
    "# Functions to load and plot the fields"
   ]
  },
  {
   "cell_type": "code",
   "execution_count": 2,
   "metadata": {
    "collapsed": true
   },
   "outputs": [],
   "source": [
    "def extract_data( field, iteration, code='picsar' ):\n",
    "    if code == 'picsar':\n",
    "        pxr_field = PxrField('./RESULTS/%s%d.pxr' %(field, iteration) )\n",
    "        return(pxr_field.f[:,:,:])\n",
    "\n",
    "    if code == 'warpx':        \n",
    "        ds = yt.load( './plt%05d/' %iteration )\n",
    "        all_data_level_0 = ds.covering_grid(level=0, \n",
    "                    left_edge=[0,0.0,0.0], dims=ds.domain_dimensions)\n",
    "\n",
    "        return( all_data_level_0[field] )"
   ]
  },
  {
   "cell_type": "code",
   "execution_count": 3,
   "metadata": {
    "collapsed": true
   },
   "outputs": [],
   "source": [
    "def plot_fields( field1, field2, iteration ):\n",
    "    plt.clf()\n",
    "    \n",
    "    plt.subplot(131)\n",
    "    plt.title('PICSAR')\n",
    "    data1 = extract_data(field1, iteration, 'picsar')\n",
    "    plt.imshow(data1[32,:,:])\n",
    "    plt.colorbar()\n",
    "    \n",
    "    plt.subplot(132)\n",
    "    plt.title('WARPX')\n",
    "    data2 = extract_data(field2, iteration, 'warpx')\n",
    "    plt.imshow(data2[::-1,:,32].T)\n",
    "    plt.colorbar()\n",
    "    \n",
    "    plt.subplot(133)\n",
    "    plt.title('Difference')\n",
    "    plt.imshow(data2[::-1,32,:].T -data1[:,32,:])\n",
    "    plt.colorbar()"
   ]
  },
  {
   "cell_type": "markdown",
   "metadata": {},
   "source": [
    "# Compare fields"
   ]
  },
  {
   "cell_type": "code",
   "execution_count": 5,
   "metadata": {
    "collapsed": false
   },
   "outputs": [
    {
     "name": "stdout",
     "output_type": "stream",
     "text": [
      "('Openning of ', './RESULTS/jx2.pxr')\n",
      "xmin: -0.000020, xmax: 0.000020, nx: 64\n",
      "ymin: -0.000020, ymax: 0.000020, ny: 64\n",
      "zmin: -0.000020, zmax: 0.000020, nz: 64\n",
      "('Total number of cells:', 262144)\n",
      "('Size of file:', 2097212)\n"
     ]
    },
    {
     "name": "stderr",
     "output_type": "stream",
     "text": [
      "yt : [INFO     ] 2016-10-19 18:07:01,595 Parameters: current_time              = 2.40729e-15\n",
      "yt : [INFO     ] 2016-10-19 18:07:01,596 Parameters: domain_dimensions         = [64 64 64]\n",
      "yt : [INFO     ] 2016-10-19 18:07:01,599 Parameters: domain_left_edge          = [ -2.00000000e-05  -2.00000000e-05  -2.00000000e-05]\n",
      "yt : [INFO     ] 2016-10-19 18:07:01,600 Parameters: domain_right_edge         = [  2.00000000e-05   2.00000000e-05   2.00000000e-05]\n"
     ]
    }
   ],
   "source": [
    "plot_fields('jx', 'jx', 2)"
   ]
  },
  {
   "cell_type": "code",
   "execution_count": 8,
   "metadata": {
    "collapsed": false
   },
   "outputs": [
    {
     "name": "stdout",
     "output_type": "stream",
     "text": [
      "('Openning of ', './RESULTS/jx9.pxr')\n",
      "xmin: -0.000020, xmax: 0.000020, nx: 64\n",
      "ymin: -0.000020, ymax: 0.000020, ny: 64\n",
      "zmin: -0.000020, zmax: 0.000020, nz: 64\n",
      "('Total number of cells:', 262144)\n",
      "('Size of file:', 2097212)\n"
     ]
    },
    {
     "name": "stderr",
     "output_type": "stream",
     "text": [
      "yt : [INFO     ] 2016-10-19 19:57:05,354 Parameters: current_time              = 1.08328e-14\n",
      "yt : [INFO     ] 2016-10-19 19:57:05,355 Parameters: domain_dimensions         = [64 64 64]\n",
      "yt : [INFO     ] 2016-10-19 19:57:05,356 Parameters: domain_left_edge          = [ -2.00000000e-05  -2.00000000e-05  -2.00000000e-05]\n",
      "yt : [INFO     ] 2016-10-19 19:57:05,357 Parameters: domain_right_edge         = [  2.00000000e-05   2.00000000e-05   2.00000000e-05]\n"
     ]
    }
   ],
   "source": [
    "interact(plot_fields, \n",
    "         field1=RadioButtons( options=['jx', 'ex']), \n",
    "         field2=RadioButtons(options=['jx', 'Ex']), \n",
    "        iteration=IntSlider(min=0, max=9, step=1) )"
   ]
  },
  {
   "cell_type": "code",
   "execution_count": null,
   "metadata": {
    "collapsed": true
   },
   "outputs": [],
   "source": []
  }
 ],
 "metadata": {
  "anaconda-cloud": {},
  "kernelspec": {
   "display_name": "Python [conda env:warp]",
   "language": "python",
   "name": "conda-env-warp-py"
  },
  "language_info": {
   "codemirror_mode": {
    "name": "ipython",
    "version": 2
   },
   "file_extension": ".py",
   "mimetype": "text/x-python",
   "name": "python",
   "nbconvert_exporter": "python",
   "pygments_lexer": "ipython2",
   "version": "2.7.12"
  },
  "widgets": {
   "state": {
    "d358553b97a14b15b1d90a5a65cbb683": {
     "views": [
      {
       "cell_index": 7
      }
     ]
    }
   },
   "version": "1.2.0"
  }
 },
 "nbformat": 4,
 "nbformat_minor": 1
}
